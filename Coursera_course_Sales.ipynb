{
  "nbformat": 4,
  "nbformat_minor": 0,
  "metadata": {
    "colab": {
      "provenance": [],
      "toc_visible": true,
      "authorship_tag": "ABX9TyPu0SqNnDcpz1G/YmKpC1xN",
      "include_colab_link": true
    },
    "kernelspec": {
      "name": "python3",
      "display_name": "Python 3"
    },
    "language_info": {
      "name": "python"
    }
  },
  "cells": [
    {
      "cell_type": "markdown",
      "metadata": {
        "id": "view-in-github",
        "colab_type": "text"
      },
      "source": [
        "<a href=\"https://colab.research.google.com/github/Takele2021/Data-Analysis-with-Python/blob/main/Coursera_course_Sales.ipynb\" target=\"_parent\"><img src=\"https://colab.research.google.com/assets/colab-badge.svg\" alt=\"Open In Colab\"/></a>"
      ]
    },
    {
      "cell_type": "code",
      "execution_count": 1,
      "metadata": {
        "id": "ljcsekZPZVAb"
      },
      "outputs": [],
      "source": [
        "import pandas as pd\n",
        "from google.colab import data_table"
      ]
    },
    {
      "cell_type": "code",
      "execution_count": 2,
      "metadata": {
        "id": "Y4NjjT-WZrYu"
      },
      "outputs": [],
      "source": [
        "url = \"https://archive.ics.uci.edu/ml/machine-learning-databases/autos/imports-85.data\""
      ]
    },
    {
      "cell_type": "code",
      "source": [
        "df = pd.read_csv(url, header= None)"
      ],
      "metadata": {
        "id": "MJK_v0F0Z21O"
      },
      "execution_count": 21,
      "outputs": []
    },
    {
      "cell_type": "code",
      "source": [
        "df.describe(include = \"all\")"
      ],
      "metadata": {
        "id": "A32EyXo1aVA4"
      },
      "execution_count": null,
      "outputs": []
    },
    {
      "cell_type": "code",
      "source": [
        "header  = [\"Symboling\", \"Normalized-Loses\", \"Make\", \"Fuel-Type\", \"Aspiration\", \"No-of-doors\", \"Body Style\", \"Drive-Wheel\", \"Engine-Location\", \"Wheel-Base\"\n",
        "           , \"Lenght\", \"Width\", \"Height\", \"Curb-Weight\", \"Engine-Type\", \"Num-of-cylinders\", \"Engine-Size\", \"Fuel-System\", \"Bore\", \"Stroke\", \"Compression-Ratio\"\n",
        "           , \"Horse-Power\", \"Peak-RPM\", \"City-MPG\", \"Highway-MPG\",\"Price\"]"
      ],
      "metadata": {
        "id": "-1gueLJBbehQ"
      },
      "execution_count": 25,
      "outputs": []
    },
    {
      "cell_type": "code",
      "source": [
        "df.columns = header\n",
        "df.describe(include = \"all\")"
      ],
      "metadata": {
        "id": "ti5qgTnNeHyZ"
      },
      "execution_count": null,
      "outputs": []
    },
    {
      "cell_type": "code",
      "source": [
        "path = \"/content/Practice/takele.xlsx\""
      ],
      "metadata": {
        "id": "1GfiFLngtemq"
      },
      "execution_count": null,
      "outputs": []
    },
    {
      "cell_type": "code",
      "source": [
        "df.to_excel(path)\n"
      ],
      "metadata": {
        "id": "U7oReM3YtiTn"
      },
      "execution_count": null,
      "outputs": []
    },
    {
      "cell_type": "code",
      "source": [
        "df['Fuel-Type']"
      ],
      "metadata": {
        "id": "6-xpG_B-uiST"
      },
      "execution_count": null,
      "outputs": []
    },
    {
      "cell_type": "code",
      "source": [
        "!head df"
      ],
      "metadata": {
        "colab": {
          "base_uri": "https://localhost:8080/"
        },
        "id": "7iwSmZJLyKBD",
        "outputId": "95d6ba0d-e00b-43ed-cb00-f1d92ee319bb"
      },
      "execution_count": null,
      "outputs": [
        {
          "output_type": "stream",
          "name": "stdout",
          "text": [
            "head: cannot open 'df' for reading: No such file or directory\n"
          ]
        }
      ]
    },
    {
      "cell_type": "code",
      "source": [
        "path = \"/content/Practice/takele.csv\"\n",
        "df.to_csv(path)"
      ],
      "metadata": {
        "id": "fEneE-OKyuOo"
      },
      "execution_count": null,
      "outputs": []
    },
    {
      "cell_type": "code",
      "source": [
        "!head \"/content/Practice/takele.csv\""
      ],
      "metadata": {
        "id": "oS3K1BHBzH_v"
      },
      "execution_count": null,
      "outputs": []
    },
    {
      "cell_type": "code",
      "source": [
        "df.shape"
      ],
      "metadata": {
        "colab": {
          "base_uri": "https://localhost:8080/"
        },
        "id": "rB9b2Bl2FvKm",
        "outputId": "ef65d8ba-d9fe-4713-dbc4-1c5e0a24e26b"
      },
      "execution_count": null,
      "outputs": [
        {
          "output_type": "execute_result",
          "data": {
            "text/plain": [
              "(205, 26)"
            ]
          },
          "metadata": {},
          "execution_count": 8
        }
      ]
    },
    {
      "cell_type": "code",
      "source": [
        "df"
      ],
      "metadata": {
        "id": "bJkmq6KcHnZu"
      },
      "execution_count": null,
      "outputs": []
    },
    {
      "cell_type": "code",
      "source": [
        "pd.isna(df)"
      ],
      "metadata": {
        "id": "_afqJsTNLJ9u"
      },
      "execution_count": null,
      "outputs": []
    },
    {
      "cell_type": "code",
      "source": [
        "df.rename(columns={\"Symboling\":\"Symbole\"}, inplace= True)"
      ],
      "metadata": {
        "id": "VZpEP3fzAdt1"
      },
      "execution_count": 7,
      "outputs": []
    },
    {
      "cell_type": "code",
      "source": [
        "df.rename(columns={\"Symbole\":\"Symboling\"}, inplace=True)"
      ],
      "metadata": {
        "id": "rPOvyolbBK66"
      },
      "execution_count": 48,
      "outputs": []
    },
    {
      "cell_type": "code",
      "source": [
        "df.describe()"
      ],
      "metadata": {
        "id": "VbwzxMJ_BcIf"
      },
      "execution_count": null,
      "outputs": []
    },
    {
      "cell_type": "code",
      "source": [
        "type(df)"
      ],
      "metadata": {
        "colab": {
          "base_uri": "https://localhost:8080/"
        },
        "id": "j6tDaHVvC6NF",
        "outputId": "9c891571-4bf5-41a5-b32e-ebf869570352"
      },
      "execution_count": 23,
      "outputs": [
        {
          "output_type": "execute_result",
          "data": {
            "text/plain": [
              "pandas.core.frame.DataFrame"
            ]
          },
          "metadata": {},
          "execution_count": 23
        }
      ]
    },
    {
      "cell_type": "code",
      "source": [
        "df.head()"
      ],
      "metadata": {
        "id": "t28lXcjdDYwT"
      },
      "execution_count": null,
      "outputs": []
    },
    {
      "cell_type": "code",
      "source": [
        "df.dtypes"
      ],
      "metadata": {
        "id": "oCetDCuKDvIB"
      },
      "execution_count": null,
      "outputs": []
    },
    {
      "cell_type": "code",
      "source": [
        "df[\"Symboling\"] = df[\"Symboling\"].astype(\"int\")"
      ],
      "metadata": {
        "id": "d34xwubrD2fj"
      },
      "execution_count": 47,
      "outputs": []
    },
    {
      "cell_type": "code",
      "source": [
        "df[[\"Body Style\",\"Fuel-Type\", \"Price\"]]"
      ],
      "metadata": {
        "id": "D_SgOlFXH0z8"
      },
      "execution_count": null,
      "outputs": []
    },
    {
      "cell_type": "code",
      "source": [
        "#Simpe feature Normalization\n",
        "df['Lenght'] = df['Lenght']/df['Lenght'].max()"
      ],
      "metadata": {
        "id": "xWjNsnJaKnsU"
      },
      "execution_count": 68,
      "outputs": []
    },
    {
      "cell_type": "code",
      "source": [
        "#Min Max normalization\n",
        "df['Lenght'] = (df['Lenght'] - df['Lenght'].min()) / (df['Lenght'].max() - (df['Lenght'].min()))"
      ],
      "metadata": {
        "id": "jXTI72KNMLl2"
      },
      "execution_count": 77,
      "outputs": []
    },
    {
      "cell_type": "code",
      "source": [
        "# Normalization with Z score\n",
        "df['Lenght'] = (df['Lenght'] - df['Lenght'].mean())/df['Lenght'].std()"
      ],
      "metadata": {
        "id": "8F_EJ-IHQPRP"
      },
      "execution_count": 81,
      "outputs": []
    },
    {
      "cell_type": "code",
      "source": [],
      "metadata": {
        "id": "gCw6NWjyQi9X"
      },
      "execution_count": null,
      "outputs": []
    }
  ]
}