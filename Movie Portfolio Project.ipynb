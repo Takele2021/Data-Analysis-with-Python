{
 "cells": [
  {
   "cell_type": "code",
   "execution_count": 3,
   "id": "0ff4985b-cb8a-4baf-b74a-026d1d1b27ae",
   "metadata": {},
   "outputs": [],
   "source": [
    "import pandas as pd"
   ]
  },
  {
   "cell_type": "code",
   "execution_count": 5,
   "id": "5cef816c-5e7a-4533-a124-ea2b147063df",
   "metadata": {},
   "outputs": [],
   "source": [
    "path = 'data/Customer Call List.xlsx'"
   ]
  },
  {
   "cell_type": "code",
   "execution_count": 7,
   "id": "0beafffe-d248-424d-ae93-c323994c929b",
   "metadata": {},
   "outputs": [],
   "source": [
    "df = pd.read_excel(path)"
   ]
  },
  {
   "cell_type": "code",
   "execution_count": 17,
   "id": "da975dea-68c6-4d11-acab-393f2fb963d9",
   "metadata": {},
   "outputs": [],
   "source": [
    "# Remove duplicates from dataframe\n",
    "df = df.drop_duplicates()"
   ]
  },
  {
   "cell_type": "code",
   "execution_count": 19,
   "id": "6e9bfa4f-0cce-49cb-ae95-077c301c6054",
   "metadata": {},
   "outputs": [],
   "source": [
    "# Drop unnecessary Column\n",
    "df.drop(columns = \"Not_Useful_Column\", inplace = True)"
   ]
  },
  {
   "cell_type": "code",
   "execution_count": 21,
   "id": "c9e90c9a-72db-496f-98b8-d14864810af8",
   "metadata": {},
   "outputs": [],
   "source": [
    "#Formating last name column to remove unnecessary characters\n",
    "df['Last_Name'] = df[\"Last_Name\"].str.strip('123./._')"
   ]
  },
  {
   "cell_type": "code",
   "execution_count": 23,
   "id": "631585e5-3d16-464c-bf98-bd2a6c184c57",
   "metadata": {},
   "outputs": [],
   "source": [
    "#To remove - character from phone number with empty character\n",
    "df['Phone_Number'] = df['Phone_Number'].str.replace('[^a-zA-Z0-9]', '', regex=True)"
   ]
  },
  {
   "cell_type": "code",
   "execution_count": 25,
   "id": "570f061c-5b3f-4697-809a-5565ca22aa5a",
   "metadata": {},
   "outputs": [],
   "source": [
    "#Change phone number column data type to string to do formating\n",
    "df[\"Phone_Number\"] = df[\"Phone_Number\"].astype(str)"
   ]
  },
  {
   "cell_type": "code",
   "execution_count": 27,
   "id": "507aeb1e-7a0b-4f4d-8ea8-3ac0499b9579",
   "metadata": {},
   "outputs": [],
   "source": [
    "#Formating phone number columns as it to be like 000-000-0000\n",
    "df['Phone_Number'] = df[\"Phone_Number\"].apply(lambda x: x[0:3] + '-' + x[3:6] + '-' + x[6:10])"
   ]
  },
  {
   "cell_type": "code",
   "execution_count": 29,
   "id": "8dc73edc-951e-4ea5-bffa-9ded34389ac8",
   "metadata": {},
   "outputs": [],
   "source": [
    "#df['Phone_Number'] = df['Phone_Number'].str.replace('nan--','')\n",
    "df['Phone_Number'] = df['Phone_Number'].str.replace('Na--','')"
   ]
  },
  {
   "cell_type": "code",
   "execution_count": 31,
   "id": "3443893c-0cfd-41f9-9487-b700c24f15ec",
   "metadata": {},
   "outputs": [],
   "source": [
    "#Spliting the address column in to three\n",
    "#n=2\n",
    "df[[\"Street_Address\", \"State\", \"Zip_Code\"]] = df[\"Address\"].str.split(',', n=2,  expand=True)\n",
    "#or\n",
    "#df[[\"Street_Adrees\", \"State\", \"\"Zip_code]] = df[\"Address\"].str.split(','), 2, expand = True)"
   ]
  },
  {
   "cell_type": "code",
   "execution_count": 33,
   "id": "9c3970cd-59db-4dcc-b4a1-280cfe92bae0",
   "metadata": {},
   "outputs": [],
   "source": [
    "#Replacing the Yes and No with Y and N for entire dataframe\n",
    "replace_mapping = {'Yes': 'Y',  'No': 'N'}\n",
    "df = df.replace(replace_mapping)\n",
    "#or replace for each column\n"
   ]
  },
  {
   "cell_type": "code",
   "execution_count": 35,
   "id": "affc8ce7-4b62-4eb2-a3ae-12a847d81192",
   "metadata": {},
   "outputs": [],
   "source": [
    "#Relacing not a number or na value with empty\n",
    "df = df.fillna(\"\")"
   ]
  },
  {
   "cell_type": "code",
   "execution_count": 37,
   "id": "74ee1a05-54cb-4360-b77a-64195e87fad1",
   "metadata": {},
   "outputs": [],
   "source": [
    "df = df.replace('N/a', '')"
   ]
  },
  {
   "cell_type": "code",
   "execution_count": 39,
   "id": "7c6db574-6731-4d15-849b-f61b30b14e53",
   "metadata": {},
   "outputs": [],
   "source": [
    "#Now Removing rows where Do_not_contact values are N\n",
    "df = df.loc[df[\"Do_Not_Contact\"] == \"N\"] "
   ]
  },
  {
   "cell_type": "code",
   "execution_count": 41,
   "id": "eb2bf286-9751-4a07-b6ca-a70b36c526fb",
   "metadata": {},
   "outputs": [],
   "source": [
    "for x in df.index:\n",
    "  if df.loc[x, \"Phone_Number\"] == '':\n",
    "    df.drop(x, inplace = True)"
   ]
  },
  {
   "cell_type": "code",
   "execution_count": 45,
   "id": "183b39b8-c62f-495f-8baa-eae3263f34c1",
   "metadata": {},
   "outputs": [],
   "source": [
    "df = df.reset_index()"
   ]
  },
  {
   "cell_type": "code",
   "execution_count": null,
   "id": "cbc55b99-388c-49c0-9640-317f7e1be6ce",
   "metadata": {},
   "outputs": [],
   "source": []
  }
 ],
 "metadata": {
  "kernelspec": {
   "display_name": "anaconda-panel-2023.05-py310",
   "language": "python",
   "name": "conda-env-anaconda-panel-2023.05-py310-py"
  },
  "language_info": {
   "codemirror_mode": {
    "name": "ipython",
    "version": 3
   },
   "file_extension": ".py",
   "mimetype": "text/x-python",
   "name": "python",
   "nbconvert_exporter": "python",
   "pygments_lexer": "ipython3",
   "version": "3.11.5"
  }
 },
 "nbformat": 4,
 "nbformat_minor": 5
}
